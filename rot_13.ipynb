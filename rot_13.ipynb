{
  "cells": [
    {
      "cell_type": "code",
      "source": [
        "%%html\n",
        "<center>\n",
        "<img src=\"https://upload.wikimedia.org/wikipedia/commons/thumb/3/33/ROT13_table_with_example.svg/475px-ROT13_table_with_example.svg.png\">\n",
        "<p>\n",
        "<a href=\"https://en.wikipedia.org/wiki/ROT13\">ROT 13 - Wikipedia</a>\n",
        "</center>"
      ],
      "outputs": [
        {
          "output_type": "display_data",
          "data": {
            "text/plain": [
              "<IPython.core.display.HTML object>"
            ],
            "text/html": [
              "<center>\n",
              "<img src=\"https://upload.wikimedia.org/wikipedia/commons/thumb/3/33/ROT13_table_with_example.svg/475px-ROT13_table_with_example.svg.png\">\n",
              "<p>\n",
              "<a href=\"https://en.wikipedia.org/wiki/ROT13\">ROT 13 - Wikipedia</a>\n",
              "</center>"
            ]
          },
          "metadata": {}
        }
      ],
      "execution_count": 57,
      "metadata": {
        "collapsed": false,
        "outputHidden": false,
        "inputHidden": true
      }
    },
    {
      "cell_type": "markdown",
      "source": [
        "ROT13 (\"rotate by 13 places\", sometimes hyphenated ROT-13) is a simple letter substitution cipher that replaces a letter with the 13th letter after it, in the alphabet. ROT13 is a special case of the Caesar cipher, developed in ancient Rome."
      ],
      "metadata": {}
    },
    {
      "cell_type": "code",
      "source": [
        "def rot13(s):\n",
        "    \"\"\"Rotate 13, human friendly edition.\"\"\"\n",
        "    if isinstance(s, str):\n",
        "        r = \"\"\n",
        "        for c in str(s):\n",
        "            if ord('A') <= ord(c) <= ord('M'):\n",
        "                r = r + chr(ord(c) + 13)\n",
        "            elif ord('a') <= ord(c) <= ord('m'):\n",
        "                r = r + chr(ord(c) + 13)\n",
        "            elif ord('N') <= ord(c) <= ord('Z'):\n",
        "                r = r + chr(ord(c) - 13)\n",
        "            elif ord('n') <= ord(c) <= ord('z'):\n",
        "                r = r + chr(ord(c) - 13)\n",
        "            else:\n",
        "                r = r + c\n",
        "        return r\n",
        "    else:\n",
        "        return s"
      ],
      "outputs": [],
      "execution_count": 58,
      "metadata": {
        "collapsed": false,
        "outputHidden": false,
        "inputHidden": false
      }
    },
    {
      "cell_type": "code",
      "source": [
        "text = \"\"\"Lorem ipsum dolor sit amet, consectetur adipiscing elit. Et quidem, inquit, vehementer errat; Deprehensus omnem poenam contemnet. Quid ergo hoc loco intellegit honestum? Iam in altera philosophiae parte.\"\"\""
      ],
      "outputs": [
        {
          "output_type": "execute_result",
          "execution_count": 73,
          "data": {
            "text/plain": [
              "'Lorem ipsum dolor sit amet, consectetur adipiscing elit. Et quidem, inquit, vehementer errat; Deprehensus omnem poenam contemnet. Quid ergo hoc loco intellegit honestum? Iam in altera philosophiae parte.'"
            ]
          },
          "metadata": {}
        }
      ],
      "execution_count": 73,
      "metadata": {
        "collapsed": false,
        "outputHidden": false,
        "inputHidden": false
      }
    },
    {
      "cell_type": "code",
      "source": [
        "secret = rot13(text)\n",
        "secret"
      ],
      "outputs": [
        {
          "output_type": "execute_result",
          "execution_count": 60,
          "data": {
            "text/plain": [
              "'Yberz vcfhz qbybe fvg nzrg, pbafrpgrghe nqvcvfpvat ryvg. Rg dhvqrz, vadhvg, irurzragre reeng; Qrcerurafhf bzarz cbranz pbagrzarg. Dhvq retb ubp ybpb vagryyrtvg ubarfghz? Vnz va nygren cuvybfbcuvnr cnegr.'"
            ]
          },
          "metadata": {}
        }
      ],
      "execution_count": 60,
      "metadata": {
        "collapsed": false,
        "outputHidden": false,
        "inputHidden": false
      }
    },
    {
      "cell_type": "code",
      "source": [
        "answer = rot13(secret)\n",
        "answer"
      ],
      "outputs": [
        {
          "output_type": "execute_result",
          "execution_count": 61,
          "data": {
            "text/plain": [
              "'Lorem ipsum dolor sit amet, consectetur adipiscing elit. Et quidem, inquit, vehementer errat; Deprehensus omnem poenam contemnet. Quid ergo hoc loco intellegit honestum? Iam in altera philosophiae parte.'"
            ]
          },
          "metadata": {}
        }
      ],
      "execution_count": 61,
      "metadata": {
        "collapsed": false,
        "outputHidden": false,
        "inputHidden": false
      }
    },
    {
      "cell_type": "code",
      "source": [
        "answer == text"
      ],
      "outputs": [
        {
          "output_type": "execute_result",
          "execution_count": 62,
          "data": {
            "text/plain": [
              "True"
            ]
          },
          "metadata": {}
        }
      ],
      "execution_count": 62,
      "metadata": {
        "collapsed": false,
        "outputHidden": false,
        "inputHidden": false
      }
    },
    {
      "cell_type": "markdown",
      "source": [
        "Only the values are identical to Python."
      ],
      "metadata": {}
    },
    {
      "cell_type": "code",
      "source": [
        "id(text), id(answer)"
      ],
      "outputs": [
        {
          "output_type": "execute_result",
          "execution_count": 69,
          "data": {
            "text/plain": [
              "(1620972228144, 1620968334128)"
            ]
          },
          "metadata": {}
        }
      ],
      "execution_count": 69,
      "metadata": {
        "collapsed": false,
        "outputHidden": false,
        "inputHidden": false
      }
    },
    {
      "cell_type": "code",
      "source": [
        "text is answer"
      ],
      "outputs": [
        {
          "output_type": "execute_result",
          "execution_count": 74,
          "data": {
            "text/plain": [
              "False"
            ]
          },
          "metadata": {}
        }
      ],
      "execution_count": 74,
      "metadata": {
        "collapsed": false,
        "outputHidden": false,
        "inputHidden": false
      }
    },
    {
      "cell_type": "markdown",
      "source": [
        "Alternatively, in Python 3.x, 'rot13' coding is supported"
      ],
      "metadata": {}
    },
    {
      "cell_type": "code",
      "source": [
        "import codecs\n",
        "secret2 = codecs.encode(text, 'rot13')\n",
        "secret2"
      ],
      "outputs": [
        {
          "output_type": "execute_result",
          "execution_count": 66,
          "data": {
            "text/plain": [
              "'Yberz vcfhz qbybe fvg nzrg, pbafrpgrghe nqvcvfpvat ryvg. Rg dhvqrz, vadhvg, irurzragre reeng; Qrcerurafhf bzarz cbranz pbagrzarg. Dhvq retb ubp ybpb vagryyrtvg ubarfghz? Vnz va nygren cuvybfbcuvnr cnegr.'"
            ]
          },
          "metadata": {}
        }
      ],
      "execution_count": 66,
      "metadata": {
        "collapsed": false,
        "outputHidden": false,
        "inputHidden": false
      }
    },
    {
      "cell_type": "code",
      "source": [
        "answer2 = codecs.decode(secret2, 'rot13')\n",
        "answer2"
      ],
      "outputs": [
        {
          "output_type": "execute_result",
          "execution_count": 67,
          "data": {
            "text/plain": [
              "'Lorem ipsum dolor sit amet, consectetur adipiscing elit. Et quidem, inquit, vehementer errat; Deprehensus omnem poenam contemnet. Quid ergo hoc loco intellegit honestum? Iam in altera philosophiae parte.'"
            ]
          },
          "metadata": {}
        }
      ],
      "execution_count": 67,
      "metadata": {
        "collapsed": false,
        "outputHidden": false,
        "inputHidden": false
      }
    }
  ],
  "metadata": {
    "kernelspec": {
      "name": "python3",
      "language": "python",
      "display_name": "Python 3"
    },
    "kernel_info": {
      "name": "python3"
    },
    "language_info": {
      "name": "python",
      "version": "3.6.4",
      "mimetype": "text/x-python",
      "codemirror_mode": {
        "name": "ipython",
        "version": 3
      },
      "pygments_lexer": "ipython3",
      "nbconvert_exporter": "python",
      "file_extension": ".py"
    },
    "nteract": {
      "version": "0.5.5"
    }
  },
  "nbformat": 4,
  "nbformat_minor": 4
}